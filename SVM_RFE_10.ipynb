{
 "cells": [
  {
   "cell_type": "code",
   "execution_count": 1,
   "id": "050d6ae9",
   "metadata": {},
   "outputs": [],
   "source": [
    "import pandas as pd\n",
    "import matplotlib.pyplot as plt\n",
    "import seaborn as sns\n",
    "\n",
    "from sklearn.svm import SVC\n",
    "from sklearn.model_selection import train_test_split, GridSearchCV\n",
    "from sklearn.metrics import classification_report, confusion_matrix, roc_curve, roc_auc_score"
   ]
  },
  {
   "cell_type": "code",
   "execution_count": 2,
   "id": "31c26f37",
   "metadata": {},
   "outputs": [],
   "source": [
    "data = pd.read_csv('rfe_dataset_10.csv')"
   ]
  },
  {
   "cell_type": "code",
   "execution_count": 3,
   "id": "bac9de9d",
   "metadata": {},
   "outputs": [],
   "source": [
    "X = data.drop('Class', axis = 1)\n",
    "y = data[['Class']]"
   ]
  },
  {
   "cell_type": "code",
   "execution_count": 4,
   "id": "617f240d",
   "metadata": {},
   "outputs": [],
   "source": [
    "# Podela podataka na trening i test set\n",
    "X_train, X_test, y_train, y_test = train_test_split(X, y.values.ravel(), test_size=0.2, random_state=42, stratify = y)"
   ]
  },
  {
   "cell_type": "markdown",
   "id": "634c5565",
   "metadata": {},
   "source": [
    "# Linear kernel"
   ]
  },
  {
   "cell_type": "code",
   "execution_count": 5,
   "id": "8413d3f0",
   "metadata": {},
   "outputs": [
    {
     "name": "stdout",
     "output_type": "stream",
     "text": [
      "              precision    recall  f1-score   support\n",
      "\n",
      "         0.0       0.78      0.76      0.77        50\n",
      "         1.0       0.76      0.78      0.77        50\n",
      "\n",
      "    accuracy                           0.77       100\n",
      "   macro avg       0.77      0.77      0.77       100\n",
      "weighted avg       0.77      0.77      0.77       100\n",
      "\n",
      "[[38 12]\n",
      " [11 39]]\n",
      "              precision    recall  f1-score   support\n",
      "\n",
      "         0.0       0.80      0.62      0.70        13\n",
      "         1.0       0.69      0.85      0.76        13\n",
      "\n",
      "    accuracy                           0.73        26\n",
      "   macro avg       0.74      0.73      0.73        26\n",
      "weighted avg       0.74      0.73      0.73        26\n",
      "\n",
      "[[ 8  5]\n",
      " [ 2 11]]\n"
     ]
    }
   ],
   "source": [
    "# Kreiranje SVM klasifikatora\n",
    "svm = SVC(kernel='linear')\n",
    "\n",
    "# Obuka SVM klasifikatora\n",
    "svm.fit(X_train, y_train)\n",
    "\n",
    "y_pred = svm.predict(X_train)\n",
    "print(classification_report(y_train, y_pred))\n",
    "print(confusion_matrix(y_train, y_pred))\n",
    "\n",
    "# Evaluacija performansi SVM klasifikatora\n",
    "y_pred = svm.predict(X_test)\n",
    "print(classification_report(y_test, y_pred))\n",
    "print(confusion_matrix(y_test, y_pred))"
   ]
  },
  {
   "cell_type": "code",
   "execution_count": 6,
   "id": "a3f68cac",
   "metadata": {},
   "outputs": [
    {
     "name": "stdout",
     "output_type": "stream",
     "text": [
      "              precision    recall  f1-score   support\n",
      "\n",
      "         0.0       0.72      0.62      0.67        50\n",
      "         1.0       0.67      0.76      0.71        50\n",
      "\n",
      "    accuracy                           0.69       100\n",
      "   macro avg       0.69      0.69      0.69       100\n",
      "weighted avg       0.69      0.69      0.69       100\n",
      "\n",
      "[[31 19]\n",
      " [12 38]]\n",
      "              precision    recall  f1-score   support\n",
      "\n",
      "         0.0       0.75      0.69      0.72        13\n",
      "         1.0       0.71      0.77      0.74        13\n",
      "\n",
      "    accuracy                           0.73        26\n",
      "   macro avg       0.73      0.73      0.73        26\n",
      "weighted avg       0.73      0.73      0.73        26\n",
      "\n",
      "[[ 9  4]\n",
      " [ 3 10]]\n"
     ]
    }
   ],
   "source": [
    "# Kreiranje SVM klasifikatora\n",
    "svm = SVC(C = 0.1, kernel='linear')\n",
    "\n",
    "# Obuka SVM klasifikatora\n",
    "svm.fit(X_train, y_train)\n",
    "\n",
    "\n",
    "y_pred = svm.predict(X_train)\n",
    "print(classification_report(y_train, y_pred))\n",
    "print(confusion_matrix(y_train, y_pred))\n",
    "\n",
    "# Evaluacija performansi SVM klasifikatora\n",
    "y_pred = svm.predict(X_test)\n",
    "print(classification_report(y_test, y_pred))\n",
    "print(confusion_matrix(y_test, y_pred))"
   ]
  },
  {
   "cell_type": "code",
   "execution_count": 7,
   "id": "8feb2e0e",
   "metadata": {},
   "outputs": [
    {
     "name": "stdout",
     "output_type": "stream",
     "text": [
      "              precision    recall  f1-score   support\n",
      "\n",
      "         0.0       0.78      0.76      0.77        50\n",
      "         1.0       0.76      0.78      0.77        50\n",
      "\n",
      "    accuracy                           0.77       100\n",
      "   macro avg       0.77      0.77      0.77       100\n",
      "weighted avg       0.77      0.77      0.77       100\n",
      "\n",
      "[[38 12]\n",
      " [11 39]]\n",
      "              precision    recall  f1-score   support\n",
      "\n",
      "         0.0       0.78      0.54      0.64        13\n",
      "         1.0       0.65      0.85      0.73        13\n",
      "\n",
      "    accuracy                           0.69        26\n",
      "   macro avg       0.71      0.69      0.68        26\n",
      "weighted avg       0.71      0.69      0.68        26\n",
      "\n",
      "[[ 7  6]\n",
      " [ 2 11]]\n"
     ]
    }
   ],
   "source": [
    "# Kreiranje SVM klasifikatora\n",
    "svm = SVC(C = 3, kernel='linear')\n",
    "\n",
    "# Obuka SVM klasifikatora\n",
    "svm.fit(X_train, y_train)\n",
    "\n",
    "y_pred = svm.predict(X_train)\n",
    "print(classification_report(y_train, y_pred))\n",
    "print(confusion_matrix(y_train, y_pred))\n",
    "\n",
    "# Evaluacija performansi SVM klasifikatora\n",
    "y_pred = svm.predict(X_test)\n",
    "print(classification_report(y_test, y_pred))\n",
    "print(confusion_matrix(y_test, y_pred))"
   ]
  },
  {
   "cell_type": "code",
   "execution_count": 8,
   "id": "b11e0b3f",
   "metadata": {},
   "outputs": [
    {
     "name": "stdout",
     "output_type": "stream",
     "text": [
      "              precision    recall  f1-score   support\n",
      "\n",
      "         0.0       0.81      0.78      0.80        50\n",
      "         1.0       0.79      0.82      0.80        50\n",
      "\n",
      "    accuracy                           0.80       100\n",
      "   macro avg       0.80      0.80      0.80       100\n",
      "weighted avg       0.80      0.80      0.80       100\n",
      "\n",
      "[[39 11]\n",
      " [ 9 41]]\n",
      "              precision    recall  f1-score   support\n",
      "\n",
      "         0.0       0.75      0.46      0.57        13\n",
      "         1.0       0.61      0.85      0.71        13\n",
      "\n",
      "    accuracy                           0.65        26\n",
      "   macro avg       0.68      0.65      0.64        26\n",
      "weighted avg       0.68      0.65      0.64        26\n",
      "\n",
      "[[ 6  7]\n",
      " [ 2 11]]\n"
     ]
    }
   ],
   "source": [
    "# Kreiranje SVM klasifikatora\n",
    "svm = SVC(C = 7, kernel='linear')\n",
    "\n",
    "# Obuka SVM klasifikatora\n",
    "svm.fit(X_train, y_train)\n",
    "\n",
    "y_pred = svm.predict(X_train)\n",
    "print(classification_report(y_train, y_pred))\n",
    "print(confusion_matrix(y_train, y_pred))\n",
    "\n",
    "# Evaluacija performansi SVM klasifikatora\n",
    "y_pred = svm.predict(X_test)\n",
    "print(classification_report(y_test, y_pred))\n",
    "print(confusion_matrix(y_test, y_pred))"
   ]
  },
  {
   "cell_type": "markdown",
   "id": "9e000e7d",
   "metadata": {},
   "source": [
    "# Poly kernel"
   ]
  },
  {
   "cell_type": "code",
   "execution_count": 9,
   "id": "b25004cb",
   "metadata": {},
   "outputs": [
    {
     "name": "stdout",
     "output_type": "stream",
     "text": [
      "              precision    recall  f1-score   support\n",
      "\n",
      "         0.0       0.76      0.96      0.85        50\n",
      "         1.0       0.95      0.70      0.80        50\n",
      "\n",
      "    accuracy                           0.83       100\n",
      "   macro avg       0.85      0.83      0.83       100\n",
      "weighted avg       0.85      0.83      0.83       100\n",
      "\n",
      "[[48  2]\n",
      " [15 35]]\n",
      "              precision    recall  f1-score   support\n",
      "\n",
      "         0.0       0.69      0.85      0.76        13\n",
      "         1.0       0.80      0.62      0.70        13\n",
      "\n",
      "    accuracy                           0.73        26\n",
      "   macro avg       0.74      0.73      0.73        26\n",
      "weighted avg       0.74      0.73      0.73        26\n",
      "\n",
      "[[11  2]\n",
      " [ 5  8]]\n"
     ]
    }
   ],
   "source": [
    "# Kreiranje SVM klasifikatora\n",
    "svm = SVC(kernel='poly')\n",
    "\n",
    "# Obuka SVM klasifikatora\n",
    "svm.fit(X_train, y_train)\n",
    "\n",
    "y_pred = svm.predict(X_train)\n",
    "print(classification_report(y_train, y_pred))\n",
    "print(confusion_matrix(y_train, y_pred))\n",
    "\n",
    "# Evaluacija performansi SVM klasifikatora\n",
    "y_pred = svm.predict(X_test)\n",
    "print(classification_report(y_test, y_pred))\n",
    "print(confusion_matrix(y_test, y_pred))"
   ]
  },
  {
   "cell_type": "code",
   "execution_count": 10,
   "id": "89469fa7",
   "metadata": {},
   "outputs": [
    {
     "name": "stdout",
     "output_type": "stream",
     "text": [
      "              precision    recall  f1-score   support\n",
      "\n",
      "         0.0       0.64      0.94      0.76        50\n",
      "         1.0       0.88      0.46      0.61        50\n",
      "\n",
      "    accuracy                           0.70       100\n",
      "   macro avg       0.76      0.70      0.68       100\n",
      "weighted avg       0.76      0.70      0.68       100\n",
      "\n",
      "[[47  3]\n",
      " [27 23]]\n",
      "              precision    recall  f1-score   support\n",
      "\n",
      "         0.0       0.60      0.92      0.73        13\n",
      "         1.0       0.83      0.38      0.53        13\n",
      "\n",
      "    accuracy                           0.65        26\n",
      "   macro avg       0.72      0.65      0.63        26\n",
      "weighted avg       0.72      0.65      0.63        26\n",
      "\n",
      "[[12  1]\n",
      " [ 8  5]]\n"
     ]
    }
   ],
   "source": [
    "# Kreiranje SVM klasifikatora\n",
    "svm = SVC(C = 0.1, kernel='poly')\n",
    "\n",
    "# Obuka SVM klasifikatora\n",
    "svm.fit(X_train, y_train)\n",
    "\n",
    "y_pred = svm.predict(X_train)\n",
    "print(classification_report(y_train, y_pred))\n",
    "print(confusion_matrix(y_train, y_pred))\n",
    "\n",
    "# Evaluacija performansi SVM klasifikatora\n",
    "y_pred = svm.predict(X_test)\n",
    "print(classification_report(y_test, y_pred))\n",
    "print(confusion_matrix(y_test, y_pred))"
   ]
  },
  {
   "cell_type": "code",
   "execution_count": 11,
   "id": "0e7b1e95",
   "metadata": {},
   "outputs": [
    {
     "name": "stdout",
     "output_type": "stream",
     "text": [
      "              precision    recall  f1-score   support\n",
      "\n",
      "         0.0       0.92      0.94      0.93        50\n",
      "         1.0       0.94      0.92      0.93        50\n",
      "\n",
      "    accuracy                           0.93       100\n",
      "   macro avg       0.93      0.93      0.93       100\n",
      "weighted avg       0.93      0.93      0.93       100\n",
      "\n",
      "[[47  3]\n",
      " [ 4 46]]\n",
      "              precision    recall  f1-score   support\n",
      "\n",
      "         0.0       0.80      0.62      0.70        13\n",
      "         1.0       0.69      0.85      0.76        13\n",
      "\n",
      "    accuracy                           0.73        26\n",
      "   macro avg       0.74      0.73      0.73        26\n",
      "weighted avg       0.74      0.73      0.73        26\n",
      "\n",
      "[[ 8  5]\n",
      " [ 2 11]]\n"
     ]
    }
   ],
   "source": [
    "# Kreiranje SVM klasifikatora\n",
    "svm = SVC(C = 4, kernel='poly')\n",
    "\n",
    "# Obuka SVM klasifikatora\n",
    "svm.fit(X_train, y_train)\n",
    "\n",
    "y_pred = svm.predict(X_train)\n",
    "print(classification_report(y_train, y_pred))\n",
    "print(confusion_matrix(y_train, y_pred))\n",
    "\n",
    "# Evaluacija performansi SVM klasifikatora\n",
    "y_pred = svm.predict(X_test)\n",
    "print(classification_report(y_test, y_pred))\n",
    "print(confusion_matrix(y_test, y_pred))"
   ]
  },
  {
   "cell_type": "code",
   "execution_count": 12,
   "id": "b74c1db0",
   "metadata": {},
   "outputs": [
    {
     "name": "stdout",
     "output_type": "stream",
     "text": [
      "              precision    recall  f1-score   support\n",
      "\n",
      "         0.0       0.92      0.94      0.93        50\n",
      "         1.0       0.94      0.92      0.93        50\n",
      "\n",
      "    accuracy                           0.93       100\n",
      "   macro avg       0.93      0.93      0.93       100\n",
      "weighted avg       0.93      0.93      0.93       100\n",
      "\n",
      "[[47  3]\n",
      " [ 4 46]]\n",
      "              precision    recall  f1-score   support\n",
      "\n",
      "         0.0       0.82      0.69      0.75        13\n",
      "         1.0       0.73      0.85      0.79        13\n",
      "\n",
      "    accuracy                           0.77        26\n",
      "   macro avg       0.78      0.77      0.77        26\n",
      "weighted avg       0.78      0.77      0.77        26\n",
      "\n",
      "[[ 9  4]\n",
      " [ 2 11]]\n"
     ]
    }
   ],
   "source": [
    "# Kreiranje SVM klasifikatora\n",
    "svm = SVC(C = 9, kernel='poly')\n",
    "\n",
    "# Obuka SVM klasifikatora\n",
    "svm.fit(X_train, y_train)\n",
    "\n",
    "y_pred = svm.predict(X_train)\n",
    "print(classification_report(y_train, y_pred))\n",
    "print(confusion_matrix(y_train, y_pred))\n",
    "\n",
    "# Evaluacija performansi SVM klasifikatora\n",
    "y_pred = svm.predict(X_test)\n",
    "print(classification_report(y_test, y_pred))\n",
    "print(confusion_matrix(y_test, y_pred))"
   ]
  },
  {
   "cell_type": "markdown",
   "id": "52ae0606",
   "metadata": {},
   "source": [
    "# RBF kernel"
   ]
  },
  {
   "cell_type": "code",
   "execution_count": 13,
   "id": "69b2d8a4",
   "metadata": {},
   "outputs": [
    {
     "name": "stdout",
     "output_type": "stream",
     "text": [
      "              precision    recall  f1-score   support\n",
      "\n",
      "         0.0       0.91      0.84      0.87        50\n",
      "         1.0       0.85      0.92      0.88        50\n",
      "\n",
      "    accuracy                           0.88       100\n",
      "   macro avg       0.88      0.88      0.88       100\n",
      "weighted avg       0.88      0.88      0.88       100\n",
      "\n",
      "[[42  8]\n",
      " [ 4 46]]\n",
      "              precision    recall  f1-score   support\n",
      "\n",
      "         0.0       0.91      0.77      0.83        13\n",
      "         1.0       0.80      0.92      0.86        13\n",
      "\n",
      "    accuracy                           0.85        26\n",
      "   macro avg       0.85      0.85      0.85        26\n",
      "weighted avg       0.85      0.85      0.85        26\n",
      "\n",
      "[[10  3]\n",
      " [ 1 12]]\n"
     ]
    }
   ],
   "source": [
    "# Kreiranje SVM klasifikatora\n",
    "svm = SVC(kernel='rbf')\n",
    "\n",
    "# Obuka SVM klasifikatora\n",
    "svm.fit(X_train, y_train)\n",
    "\n",
    "y_pred = svm.predict(X_train)\n",
    "print(classification_report(y_train, y_pred))\n",
    "print(confusion_matrix(y_train, y_pred))\n",
    "\n",
    "# Evaluacija performansi SVM klasifikatora\n",
    "y_pred = svm.predict(X_test)\n",
    "print(classification_report(y_test, y_pred))\n",
    "print(confusion_matrix(y_test, y_pred))"
   ]
  },
  {
   "cell_type": "code",
   "execution_count": 14,
   "id": "961c011f",
   "metadata": {},
   "outputs": [
    {
     "name": "stdout",
     "output_type": "stream",
     "text": [
      "              precision    recall  f1-score   support\n",
      "\n",
      "         0.0       0.75      0.82      0.78        50\n",
      "         1.0       0.80      0.72      0.76        50\n",
      "\n",
      "    accuracy                           0.77       100\n",
      "   macro avg       0.77      0.77      0.77       100\n",
      "weighted avg       0.77      0.77      0.77       100\n",
      "\n",
      "[[41  9]\n",
      " [14 36]]\n",
      "              precision    recall  f1-score   support\n",
      "\n",
      "         0.0       0.67      0.77      0.71        13\n",
      "         1.0       0.73      0.62      0.67        13\n",
      "\n",
      "    accuracy                           0.69        26\n",
      "   macro avg       0.70      0.69      0.69        26\n",
      "weighted avg       0.70      0.69      0.69        26\n",
      "\n",
      "[[10  3]\n",
      " [ 5  8]]\n"
     ]
    }
   ],
   "source": [
    "# Kreiranje SVM klasifikatora\n",
    "svm = SVC(C = 0.1, kernel='rbf')\n",
    "\n",
    "# Obuka SVM klasifikatora\n",
    "svm.fit(X_train, y_train)\n",
    "\n",
    "y_pred = svm.predict(X_train)\n",
    "print(classification_report(y_train, y_pred))\n",
    "print(confusion_matrix(y_train, y_pred))\n",
    "\n",
    "# Evaluacija performansi SVM klasifikatora\n",
    "y_pred = svm.predict(X_test)\n",
    "print(classification_report(y_test, y_pred))\n",
    "print(confusion_matrix(y_test, y_pred))"
   ]
  },
  {
   "cell_type": "code",
   "execution_count": 15,
   "id": "c83b7c9f",
   "metadata": {},
   "outputs": [
    {
     "name": "stdout",
     "output_type": "stream",
     "text": [
      "              precision    recall  f1-score   support\n",
      "\n",
      "         0.0       0.95      0.84      0.89        50\n",
      "         1.0       0.86      0.96      0.91        50\n",
      "\n",
      "    accuracy                           0.90       100\n",
      "   macro avg       0.91      0.90      0.90       100\n",
      "weighted avg       0.91      0.90      0.90       100\n",
      "\n",
      "[[42  8]\n",
      " [ 2 48]]\n",
      "              precision    recall  f1-score   support\n",
      "\n",
      "         0.0       0.91      0.77      0.83        13\n",
      "         1.0       0.80      0.92      0.86        13\n",
      "\n",
      "    accuracy                           0.85        26\n",
      "   macro avg       0.85      0.85      0.85        26\n",
      "weighted avg       0.85      0.85      0.85        26\n",
      "\n",
      "[[10  3]\n",
      " [ 1 12]]\n"
     ]
    }
   ],
   "source": [
    "# Kreiranje SVM klasifikatora\n",
    "svm = SVC(C = 3, kernel='rbf')\n",
    "\n",
    "# Obuka SVM klasifikatora\n",
    "svm.fit(X_train, y_train)\n",
    "\n",
    "y_pred = svm.predict(X_train)\n",
    "print(classification_report(y_train, y_pred))\n",
    "print(confusion_matrix(y_train, y_pred))\n",
    "\n",
    "# Evaluacija performansi SVM klasifikatora\n",
    "y_pred = svm.predict(X_test)\n",
    "print(classification_report(y_test, y_pred))\n",
    "print(confusion_matrix(y_test, y_pred))"
   ]
  },
  {
   "cell_type": "code",
   "execution_count": 16,
   "id": "cc70a050",
   "metadata": {},
   "outputs": [
    {
     "name": "stdout",
     "output_type": "stream",
     "text": [
      "              precision    recall  f1-score   support\n",
      "\n",
      "         0.0       0.98      0.96      0.97        50\n",
      "         1.0       0.96      0.98      0.97        50\n",
      "\n",
      "    accuracy                           0.97       100\n",
      "   macro avg       0.97      0.97      0.97       100\n",
      "weighted avg       0.97      0.97      0.97       100\n",
      "\n",
      "[[48  2]\n",
      " [ 1 49]]\n",
      "              precision    recall  f1-score   support\n",
      "\n",
      "         0.0       0.90      0.69      0.78        13\n",
      "         1.0       0.75      0.92      0.83        13\n",
      "\n",
      "    accuracy                           0.81        26\n",
      "   macro avg       0.82      0.81      0.81        26\n",
      "weighted avg       0.83      0.81      0.81        26\n",
      "\n",
      "[[ 9  4]\n",
      " [ 1 12]]\n"
     ]
    }
   ],
   "source": [
    "# Kreiranje SVM klasifikatora\n",
    "svm = SVC(C = 10, kernel='rbf')\n",
    "\n",
    "# Obuka SVM klasifikatora\n",
    "svm.fit(X_train, y_train)\n",
    "\n",
    "y_pred = svm.predict(X_train)\n",
    "print(classification_report(y_train, y_pred))\n",
    "print(confusion_matrix(y_train, y_pred))\n",
    "\n",
    "# Evaluacija performansi SVM klasifikatora\n",
    "y_pred = svm.predict(X_test)\n",
    "print(classification_report(y_test, y_pred))\n",
    "print(confusion_matrix(y_test, y_pred))"
   ]
  },
  {
   "cell_type": "markdown",
   "id": "71751df7",
   "metadata": {},
   "source": [
    "# Sigmoid kernel"
   ]
  },
  {
   "cell_type": "code",
   "execution_count": 17,
   "id": "17153dec",
   "metadata": {},
   "outputs": [
    {
     "name": "stdout",
     "output_type": "stream",
     "text": [
      "              precision    recall  f1-score   support\n",
      "\n",
      "         0.0       0.66      0.66      0.66        50\n",
      "         1.0       0.66      0.66      0.66        50\n",
      "\n",
      "    accuracy                           0.66       100\n",
      "   macro avg       0.66      0.66      0.66       100\n",
      "weighted avg       0.66      0.66      0.66       100\n",
      "\n",
      "[[33 17]\n",
      " [17 33]]\n",
      "              precision    recall  f1-score   support\n",
      "\n",
      "         0.0       0.64      0.69      0.67        13\n",
      "         1.0       0.67      0.62      0.64        13\n",
      "\n",
      "    accuracy                           0.65        26\n",
      "   macro avg       0.65      0.65      0.65        26\n",
      "weighted avg       0.65      0.65      0.65        26\n",
      "\n",
      "[[9 4]\n",
      " [5 8]]\n"
     ]
    }
   ],
   "source": [
    "# Kreiranje SVM klasifikatora\n",
    "svm = SVC(kernel='sigmoid')\n",
    "\n",
    "# Obuka SVM klasifikatora\n",
    "svm.fit(X_train, y_train)\n",
    "\n",
    "y_pred = svm.predict(X_train)\n",
    "print(classification_report(y_train, y_pred))\n",
    "print(confusion_matrix(y_train, y_pred))\n",
    "\n",
    "# Evaluacija performansi SVM klasifikatora\n",
    "y_pred = svm.predict(X_test)\n",
    "print(classification_report(y_test, y_pred))\n",
    "print(confusion_matrix(y_test, y_pred))"
   ]
  },
  {
   "cell_type": "code",
   "execution_count": 18,
   "id": "69b5f270",
   "metadata": {},
   "outputs": [
    {
     "name": "stdout",
     "output_type": "stream",
     "text": [
      "              precision    recall  f1-score   support\n",
      "\n",
      "         0.0       0.70      0.66      0.68        50\n",
      "         1.0       0.68      0.72      0.70        50\n",
      "\n",
      "    accuracy                           0.69       100\n",
      "   macro avg       0.69      0.69      0.69       100\n",
      "weighted avg       0.69      0.69      0.69       100\n",
      "\n",
      "[[33 17]\n",
      " [14 36]]\n",
      "              precision    recall  f1-score   support\n",
      "\n",
      "         0.0       0.64      0.69      0.67        13\n",
      "         1.0       0.67      0.62      0.64        13\n",
      "\n",
      "    accuracy                           0.65        26\n",
      "   macro avg       0.65      0.65      0.65        26\n",
      "weighted avg       0.65      0.65      0.65        26\n",
      "\n",
      "[[9 4]\n",
      " [5 8]]\n"
     ]
    }
   ],
   "source": [
    "# Kreiranje SVM klasifikatora\n",
    "svm = SVC(C = 0.1, kernel='sigmoid')\n",
    "\n",
    "# Obuka SVM klasifikatora\n",
    "svm.fit(X_train, y_train)\n",
    "\n",
    "y_pred = svm.predict(X_train)\n",
    "print(classification_report(y_train, y_pred))\n",
    "print(confusion_matrix(y_train, y_pred))\n",
    "\n",
    "# Evaluacija performansi SVM klasifikatora\n",
    "y_pred = svm.predict(X_test)\n",
    "print(classification_report(y_test, y_pred))\n",
    "print(confusion_matrix(y_test, y_pred))"
   ]
  },
  {
   "cell_type": "code",
   "execution_count": 19,
   "id": "62640540",
   "metadata": {},
   "outputs": [
    {
     "name": "stdout",
     "output_type": "stream",
     "text": [
      "              precision    recall  f1-score   support\n",
      "\n",
      "         0.0       0.69      0.66      0.67        50\n",
      "         1.0       0.67      0.70      0.69        50\n",
      "\n",
      "    accuracy                           0.68       100\n",
      "   macro avg       0.68      0.68      0.68       100\n",
      "weighted avg       0.68      0.68      0.68       100\n",
      "\n",
      "[[33 17]\n",
      " [15 35]]\n",
      "              precision    recall  f1-score   support\n",
      "\n",
      "         0.0       0.67      0.62      0.64        13\n",
      "         1.0       0.64      0.69      0.67        13\n",
      "\n",
      "    accuracy                           0.65        26\n",
      "   macro avg       0.65      0.65      0.65        26\n",
      "weighted avg       0.65      0.65      0.65        26\n",
      "\n",
      "[[8 5]\n",
      " [4 9]]\n"
     ]
    }
   ],
   "source": [
    "# Kreiranje SVM klasifikatora\n",
    "svm = SVC(C = 2, kernel='sigmoid')\n",
    "\n",
    "# Obuka SVM klasifikatora\n",
    "svm.fit(X_train, y_train)\n",
    "\n",
    "y_pred = svm.predict(X_train)\n",
    "print(classification_report(y_train, y_pred))\n",
    "print(confusion_matrix(y_train, y_pred))\n",
    "\n",
    "# Evaluacija performansi SVM klasifikatora\n",
    "y_pred = svm.predict(X_test)\n",
    "print(classification_report(y_test, y_pred))\n",
    "print(confusion_matrix(y_test, y_pred))"
   ]
  },
  {
   "cell_type": "code",
   "execution_count": 20,
   "id": "230fdce6",
   "metadata": {},
   "outputs": [
    {
     "name": "stdout",
     "output_type": "stream",
     "text": [
      "              precision    recall  f1-score   support\n",
      "\n",
      "         0.0       0.56      0.56      0.56        50\n",
      "         1.0       0.56      0.56      0.56        50\n",
      "\n",
      "    accuracy                           0.56       100\n",
      "   macro avg       0.56      0.56      0.56       100\n",
      "weighted avg       0.56      0.56      0.56       100\n",
      "\n",
      "[[28 22]\n",
      " [22 28]]\n",
      "              precision    recall  f1-score   support\n",
      "\n",
      "         0.0       0.50      0.46      0.48        13\n",
      "         1.0       0.50      0.54      0.52        13\n",
      "\n",
      "    accuracy                           0.50        26\n",
      "   macro avg       0.50      0.50      0.50        26\n",
      "weighted avg       0.50      0.50      0.50        26\n",
      "\n",
      "[[6 7]\n",
      " [6 7]]\n"
     ]
    }
   ],
   "source": [
    "# Kreiranje SVM klasifikatora\n",
    "svm = SVC(C = 8, kernel='sigmoid')\n",
    "\n",
    "# Obuka SVM klasifikatora\n",
    "svm.fit(X_train, y_train)\n",
    "\n",
    "y_pred = svm.predict(X_train)\n",
    "print(classification_report(y_train, y_pred))\n",
    "print(confusion_matrix(y_train, y_pred))\n",
    "\n",
    "# Evaluacija performansi SVM klasifikatora\n",
    "y_pred = svm.predict(X_test)\n",
    "print(classification_report(y_test, y_pred))\n",
    "print(confusion_matrix(y_test, y_pred))"
   ]
  },
  {
   "cell_type": "markdown",
   "id": "6311b28f",
   "metadata": {},
   "source": [
    "# Nalazenje najboljih parametara"
   ]
  },
  {
   "cell_type": "code",
   "execution_count": 21,
   "id": "66177c5a",
   "metadata": {},
   "outputs": [],
   "source": [
    "parameters = {'C': [0.1, 1, 5, 7, 9, 10], \n",
    "              'gamma': [1, 0.1, 0.01],\n",
    "              'kernel': ['linear', 'poly', 'sigmoid', 'rbf']}\n",
    "\n",
    "model = GridSearchCV(SVC(), param_grid=parameters, verbose = 2)"
   ]
  },
  {
   "cell_type": "code",
   "execution_count": 22,
   "id": "2a9b7607",
   "metadata": {},
   "outputs": [
    {
     "name": "stdout",
     "output_type": "stream",
     "text": [
      "Fitting 5 folds for each of 72 candidates, totalling 360 fits\n",
      "[CV] END ......................C=0.1, gamma=1, kernel=linear; total time=   0.0s\n",
      "[CV] END ......................C=0.1, gamma=1, kernel=linear; total time=   0.0s\n",
      "[CV] END ......................C=0.1, gamma=1, kernel=linear; total time=   0.0s\n",
      "[CV] END ......................C=0.1, gamma=1, kernel=linear; total time=   0.0s\n",
      "[CV] END ......................C=0.1, gamma=1, kernel=linear; total time=   0.0s\n",
      "[CV] END ........................C=0.1, gamma=1, kernel=poly; total time=   0.0s\n",
      "[CV] END ........................C=0.1, gamma=1, kernel=poly; total time=   0.0s\n",
      "[CV] END ........................C=0.1, gamma=1, kernel=poly; total time=   0.0s\n",
      "[CV] END ........................C=0.1, gamma=1, kernel=poly; total time=   0.0s\n",
      "[CV] END ........................C=0.1, gamma=1, kernel=poly; total time=   0.0s\n",
      "[CV] END .....................C=0.1, gamma=1, kernel=sigmoid; total time=   0.0s\n",
      "[CV] END .....................C=0.1, gamma=1, kernel=sigmoid; total time=   0.0s\n",
      "[CV] END .....................C=0.1, gamma=1, kernel=sigmoid; total time=   0.0s\n",
      "[CV] END .....................C=0.1, gamma=1, kernel=sigmoid; total time=   0.0s\n",
      "[CV] END .....................C=0.1, gamma=1, kernel=sigmoid; total time=   0.0s\n",
      "[CV] END .........................C=0.1, gamma=1, kernel=rbf; total time=   0.0s\n",
      "[CV] END .........................C=0.1, gamma=1, kernel=rbf; total time=   0.0s\n",
      "[CV] END .........................C=0.1, gamma=1, kernel=rbf; total time=   0.0s\n",
      "[CV] END .........................C=0.1, gamma=1, kernel=rbf; total time=   0.0s\n",
      "[CV] END .........................C=0.1, gamma=1, kernel=rbf; total time=   0.0s\n",
      "[CV] END ....................C=0.1, gamma=0.1, kernel=linear; total time=   0.0s\n",
      "[CV] END ....................C=0.1, gamma=0.1, kernel=linear; total time=   0.0s\n",
      "[CV] END ....................C=0.1, gamma=0.1, kernel=linear; total time=   0.0s\n",
      "[CV] END ....................C=0.1, gamma=0.1, kernel=linear; total time=   0.0s\n",
      "[CV] END ....................C=0.1, gamma=0.1, kernel=linear; total time=   0.0s\n",
      "[CV] END ......................C=0.1, gamma=0.1, kernel=poly; total time=   0.0s\n",
      "[CV] END ......................C=0.1, gamma=0.1, kernel=poly; total time=   0.0s\n",
      "[CV] END ......................C=0.1, gamma=0.1, kernel=poly; total time=   0.0s\n",
      "[CV] END ......................C=0.1, gamma=0.1, kernel=poly; total time=   0.0s\n",
      "[CV] END ......................C=0.1, gamma=0.1, kernel=poly; total time=   0.0s\n",
      "[CV] END ...................C=0.1, gamma=0.1, kernel=sigmoid; total time=   0.0s\n",
      "[CV] END ...................C=0.1, gamma=0.1, kernel=sigmoid; total time=   0.0s\n",
      "[CV] END ...................C=0.1, gamma=0.1, kernel=sigmoid; total time=   0.0s\n",
      "[CV] END ...................C=0.1, gamma=0.1, kernel=sigmoid; total time=   0.0s\n",
      "[CV] END ...................C=0.1, gamma=0.1, kernel=sigmoid; total time=   0.0s\n",
      "[CV] END .......................C=0.1, gamma=0.1, kernel=rbf; total time=   0.0s\n",
      "[CV] END .......................C=0.1, gamma=0.1, kernel=rbf; total time=   0.0s\n",
      "[CV] END .......................C=0.1, gamma=0.1, kernel=rbf; total time=   0.0s\n",
      "[CV] END .......................C=0.1, gamma=0.1, kernel=rbf; total time=   0.0s\n",
      "[CV] END .......................C=0.1, gamma=0.1, kernel=rbf; total time=   0.0s\n",
      "[CV] END ...................C=0.1, gamma=0.01, kernel=linear; total time=   0.0s\n",
      "[CV] END ...................C=0.1, gamma=0.01, kernel=linear; total time=   0.0s\n",
      "[CV] END ...................C=0.1, gamma=0.01, kernel=linear; total time=   0.0s\n",
      "[CV] END ...................C=0.1, gamma=0.01, kernel=linear; total time=   0.0s\n",
      "[CV] END ...................C=0.1, gamma=0.01, kernel=linear; total time=   0.0s\n",
      "[CV] END .....................C=0.1, gamma=0.01, kernel=poly; total time=   0.0s\n",
      "[CV] END .....................C=0.1, gamma=0.01, kernel=poly; total time=   0.0s\n",
      "[CV] END .....................C=0.1, gamma=0.01, kernel=poly; total time=   0.0s\n",
      "[CV] END .....................C=0.1, gamma=0.01, kernel=poly; total time=   0.0s\n",
      "[CV] END .....................C=0.1, gamma=0.01, kernel=poly; total time=   0.0s\n",
      "[CV] END ..................C=0.1, gamma=0.01, kernel=sigmoid; total time=   0.0s\n",
      "[CV] END ..................C=0.1, gamma=0.01, kernel=sigmoid; total time=   0.0s\n",
      "[CV] END ..................C=0.1, gamma=0.01, kernel=sigmoid; total time=   0.0s\n",
      "[CV] END ..................C=0.1, gamma=0.01, kernel=sigmoid; total time=   0.0s\n",
      "[CV] END ..................C=0.1, gamma=0.01, kernel=sigmoid; total time=   0.0s\n",
      "[CV] END ......................C=0.1, gamma=0.01, kernel=rbf; total time=   0.0s\n",
      "[CV] END ......................C=0.1, gamma=0.01, kernel=rbf; total time=   0.0s\n",
      "[CV] END ......................C=0.1, gamma=0.01, kernel=rbf; total time=   0.0s\n",
      "[CV] END ......................C=0.1, gamma=0.01, kernel=rbf; total time=   0.0s\n",
      "[CV] END ......................C=0.1, gamma=0.01, kernel=rbf; total time=   0.0s\n",
      "[CV] END ........................C=1, gamma=1, kernel=linear; total time=   0.0s\n",
      "[CV] END ........................C=1, gamma=1, kernel=linear; total time=   0.0s\n",
      "[CV] END ........................C=1, gamma=1, kernel=linear; total time=   0.0s\n",
      "[CV] END ........................C=1, gamma=1, kernel=linear; total time=   0.0s\n",
      "[CV] END ........................C=1, gamma=1, kernel=linear; total time=   0.0s\n",
      "[CV] END ..........................C=1, gamma=1, kernel=poly; total time=   0.0s\n",
      "[CV] END ..........................C=1, gamma=1, kernel=poly; total time=   0.0s\n",
      "[CV] END ..........................C=1, gamma=1, kernel=poly; total time=   0.0s\n",
      "[CV] END ..........................C=1, gamma=1, kernel=poly; total time=   0.0s\n",
      "[CV] END ..........................C=1, gamma=1, kernel=poly; total time=   0.0s\n",
      "[CV] END .......................C=1, gamma=1, kernel=sigmoid; total time=   0.0s\n",
      "[CV] END .......................C=1, gamma=1, kernel=sigmoid; total time=   0.0s\n",
      "[CV] END .......................C=1, gamma=1, kernel=sigmoid; total time=   0.0s\n",
      "[CV] END .......................C=1, gamma=1, kernel=sigmoid; total time=   0.0s\n",
      "[CV] END .......................C=1, gamma=1, kernel=sigmoid; total time=   0.0s\n",
      "[CV] END ...........................C=1, gamma=1, kernel=rbf; total time=   0.0s\n",
      "[CV] END ...........................C=1, gamma=1, kernel=rbf; total time=   0.0s\n",
      "[CV] END ...........................C=1, gamma=1, kernel=rbf; total time=   0.0s\n",
      "[CV] END ...........................C=1, gamma=1, kernel=rbf; total time=   0.0s\n",
      "[CV] END ...........................C=1, gamma=1, kernel=rbf; total time=   0.0s\n",
      "[CV] END ......................C=1, gamma=0.1, kernel=linear; total time=   0.0s\n",
      "[CV] END ......................C=1, gamma=0.1, kernel=linear; total time=   0.0s\n",
      "[CV] END ......................C=1, gamma=0.1, kernel=linear; total time=   0.0s\n",
      "[CV] END ......................C=1, gamma=0.1, kernel=linear; total time=   0.0s\n",
      "[CV] END ......................C=1, gamma=0.1, kernel=linear; total time=   0.0s\n",
      "[CV] END ........................C=1, gamma=0.1, kernel=poly; total time=   0.0s\n",
      "[CV] END ........................C=1, gamma=0.1, kernel=poly; total time=   0.0s\n",
      "[CV] END ........................C=1, gamma=0.1, kernel=poly; total time=   0.0s\n",
      "[CV] END ........................C=1, gamma=0.1, kernel=poly; total time=   0.0s\n",
      "[CV] END ........................C=1, gamma=0.1, kernel=poly; total time=   0.0s\n",
      "[CV] END .....................C=1, gamma=0.1, kernel=sigmoid; total time=   0.0s\n",
      "[CV] END .....................C=1, gamma=0.1, kernel=sigmoid; total time=   0.0s\n",
      "[CV] END .....................C=1, gamma=0.1, kernel=sigmoid; total time=   0.0s\n",
      "[CV] END .....................C=1, gamma=0.1, kernel=sigmoid; total time=   0.0s\n",
      "[CV] END .....................C=1, gamma=0.1, kernel=sigmoid; total time=   0.0s\n",
      "[CV] END .........................C=1, gamma=0.1, kernel=rbf; total time=   0.0s\n",
      "[CV] END .........................C=1, gamma=0.1, kernel=rbf; total time=   0.0s\n",
      "[CV] END .........................C=1, gamma=0.1, kernel=rbf; total time=   0.0s\n",
      "[CV] END .........................C=1, gamma=0.1, kernel=rbf; total time=   0.0s\n",
      "[CV] END .........................C=1, gamma=0.1, kernel=rbf; total time=   0.0s\n",
      "[CV] END .....................C=1, gamma=0.01, kernel=linear; total time=   0.0s\n",
      "[CV] END .....................C=1, gamma=0.01, kernel=linear; total time=   0.0s\n",
      "[CV] END .....................C=1, gamma=0.01, kernel=linear; total time=   0.0s\n",
      "[CV] END .....................C=1, gamma=0.01, kernel=linear; total time=   0.0s\n",
      "[CV] END .....................C=1, gamma=0.01, kernel=linear; total time=   0.0s\n",
      "[CV] END .......................C=1, gamma=0.01, kernel=poly; total time=   0.0s\n",
      "[CV] END .......................C=1, gamma=0.01, kernel=poly; total time=   0.0s\n"
     ]
    },
    {
     "name": "stdout",
     "output_type": "stream",
     "text": [
      "[CV] END .......................C=1, gamma=0.01, kernel=poly; total time=   0.0s\n",
      "[CV] END .......................C=1, gamma=0.01, kernel=poly; total time=   0.0s\n",
      "[CV] END .......................C=1, gamma=0.01, kernel=poly; total time=   0.0s\n",
      "[CV] END ....................C=1, gamma=0.01, kernel=sigmoid; total time=   0.0s\n",
      "[CV] END ....................C=1, gamma=0.01, kernel=sigmoid; total time=   0.0s\n",
      "[CV] END ....................C=1, gamma=0.01, kernel=sigmoid; total time=   0.0s\n",
      "[CV] END ....................C=1, gamma=0.01, kernel=sigmoid; total time=   0.0s\n",
      "[CV] END ....................C=1, gamma=0.01, kernel=sigmoid; total time=   0.0s\n",
      "[CV] END ........................C=1, gamma=0.01, kernel=rbf; total time=   0.0s\n",
      "[CV] END ........................C=1, gamma=0.01, kernel=rbf; total time=   0.0s\n",
      "[CV] END ........................C=1, gamma=0.01, kernel=rbf; total time=   0.0s\n",
      "[CV] END ........................C=1, gamma=0.01, kernel=rbf; total time=   0.0s\n",
      "[CV] END ........................C=1, gamma=0.01, kernel=rbf; total time=   0.0s\n",
      "[CV] END ........................C=5, gamma=1, kernel=linear; total time=   0.0s\n",
      "[CV] END ........................C=5, gamma=1, kernel=linear; total time=   0.0s\n",
      "[CV] END ........................C=5, gamma=1, kernel=linear; total time=   0.0s\n",
      "[CV] END ........................C=5, gamma=1, kernel=linear; total time=   0.0s\n",
      "[CV] END ........................C=5, gamma=1, kernel=linear; total time=   0.0s\n",
      "[CV] END ..........................C=5, gamma=1, kernel=poly; total time=   0.0s\n",
      "[CV] END ..........................C=5, gamma=1, kernel=poly; total time=   0.0s\n",
      "[CV] END ..........................C=5, gamma=1, kernel=poly; total time=   0.0s\n",
      "[CV] END ..........................C=5, gamma=1, kernel=poly; total time=   0.0s\n",
      "[CV] END ..........................C=5, gamma=1, kernel=poly; total time=   0.0s\n",
      "[CV] END .......................C=5, gamma=1, kernel=sigmoid; total time=   0.0s\n",
      "[CV] END .......................C=5, gamma=1, kernel=sigmoid; total time=   0.0s\n",
      "[CV] END .......................C=5, gamma=1, kernel=sigmoid; total time=   0.0s\n",
      "[CV] END .......................C=5, gamma=1, kernel=sigmoid; total time=   0.0s\n",
      "[CV] END .......................C=5, gamma=1, kernel=sigmoid; total time=   0.0s\n",
      "[CV] END ...........................C=5, gamma=1, kernel=rbf; total time=   0.0s\n",
      "[CV] END ...........................C=5, gamma=1, kernel=rbf; total time=   0.0s\n",
      "[CV] END ...........................C=5, gamma=1, kernel=rbf; total time=   0.0s\n",
      "[CV] END ...........................C=5, gamma=1, kernel=rbf; total time=   0.0s\n",
      "[CV] END ...........................C=5, gamma=1, kernel=rbf; total time=   0.0s\n",
      "[CV] END ......................C=5, gamma=0.1, kernel=linear; total time=   0.0s\n",
      "[CV] END ......................C=5, gamma=0.1, kernel=linear; total time=   0.0s\n",
      "[CV] END ......................C=5, gamma=0.1, kernel=linear; total time=   0.0s\n",
      "[CV] END ......................C=5, gamma=0.1, kernel=linear; total time=   0.0s\n",
      "[CV] END ......................C=5, gamma=0.1, kernel=linear; total time=   0.0s\n",
      "[CV] END ........................C=5, gamma=0.1, kernel=poly; total time=   0.0s\n",
      "[CV] END ........................C=5, gamma=0.1, kernel=poly; total time=   0.0s\n",
      "[CV] END ........................C=5, gamma=0.1, kernel=poly; total time=   0.0s\n",
      "[CV] END ........................C=5, gamma=0.1, kernel=poly; total time=   0.0s\n",
      "[CV] END ........................C=5, gamma=0.1, kernel=poly; total time=   0.0s\n",
      "[CV] END .....................C=5, gamma=0.1, kernel=sigmoid; total time=   0.0s\n",
      "[CV] END .....................C=5, gamma=0.1, kernel=sigmoid; total time=   0.0s\n",
      "[CV] END .....................C=5, gamma=0.1, kernel=sigmoid; total time=   0.0s\n",
      "[CV] END .....................C=5, gamma=0.1, kernel=sigmoid; total time=   0.0s\n",
      "[CV] END .....................C=5, gamma=0.1, kernel=sigmoid; total time=   0.0s\n",
      "[CV] END .........................C=5, gamma=0.1, kernel=rbf; total time=   0.0s\n",
      "[CV] END .........................C=5, gamma=0.1, kernel=rbf; total time=   0.0s\n",
      "[CV] END .........................C=5, gamma=0.1, kernel=rbf; total time=   0.0s\n",
      "[CV] END .........................C=5, gamma=0.1, kernel=rbf; total time=   0.0s\n",
      "[CV] END .........................C=5, gamma=0.1, kernel=rbf; total time=   0.0s\n",
      "[CV] END .....................C=5, gamma=0.01, kernel=linear; total time=   0.0s\n",
      "[CV] END .....................C=5, gamma=0.01, kernel=linear; total time=   0.0s\n",
      "[CV] END .....................C=5, gamma=0.01, kernel=linear; total time=   0.0s\n",
      "[CV] END .....................C=5, gamma=0.01, kernel=linear; total time=   0.0s\n",
      "[CV] END .....................C=5, gamma=0.01, kernel=linear; total time=   0.0s\n",
      "[CV] END .......................C=5, gamma=0.01, kernel=poly; total time=   0.0s\n",
      "[CV] END .......................C=5, gamma=0.01, kernel=poly; total time=   0.0s\n",
      "[CV] END .......................C=5, gamma=0.01, kernel=poly; total time=   0.0s\n",
      "[CV] END .......................C=5, gamma=0.01, kernel=poly; total time=   0.0s\n",
      "[CV] END .......................C=5, gamma=0.01, kernel=poly; total time=   0.0s\n",
      "[CV] END ....................C=5, gamma=0.01, kernel=sigmoid; total time=   0.0s\n",
      "[CV] END ....................C=5, gamma=0.01, kernel=sigmoid; total time=   0.0s\n",
      "[CV] END ....................C=5, gamma=0.01, kernel=sigmoid; total time=   0.0s\n",
      "[CV] END ....................C=5, gamma=0.01, kernel=sigmoid; total time=   0.0s\n",
      "[CV] END ....................C=5, gamma=0.01, kernel=sigmoid; total time=   0.0s\n",
      "[CV] END ........................C=5, gamma=0.01, kernel=rbf; total time=   0.0s\n",
      "[CV] END ........................C=5, gamma=0.01, kernel=rbf; total time=   0.0s\n",
      "[CV] END ........................C=5, gamma=0.01, kernel=rbf; total time=   0.0s\n",
      "[CV] END ........................C=5, gamma=0.01, kernel=rbf; total time=   0.0s\n",
      "[CV] END ........................C=5, gamma=0.01, kernel=rbf; total time=   0.0s\n",
      "[CV] END ........................C=7, gamma=1, kernel=linear; total time=   0.0s\n",
      "[CV] END ........................C=7, gamma=1, kernel=linear; total time=   0.0s\n",
      "[CV] END ........................C=7, gamma=1, kernel=linear; total time=   0.0s\n",
      "[CV] END ........................C=7, gamma=1, kernel=linear; total time=   0.0s\n",
      "[CV] END ........................C=7, gamma=1, kernel=linear; total time=   0.0s\n",
      "[CV] END ..........................C=7, gamma=1, kernel=poly; total time=   0.0s\n",
      "[CV] END ..........................C=7, gamma=1, kernel=poly; total time=   0.0s\n",
      "[CV] END ..........................C=7, gamma=1, kernel=poly; total time=   0.0s\n",
      "[CV] END ..........................C=7, gamma=1, kernel=poly; total time=   0.0s\n",
      "[CV] END ..........................C=7, gamma=1, kernel=poly; total time=   0.0s\n",
      "[CV] END .......................C=7, gamma=1, kernel=sigmoid; total time=   0.0s\n",
      "[CV] END .......................C=7, gamma=1, kernel=sigmoid; total time=   0.0s\n",
      "[CV] END .......................C=7, gamma=1, kernel=sigmoid; total time=   0.0s\n",
      "[CV] END .......................C=7, gamma=1, kernel=sigmoid; total time=   0.0s\n",
      "[CV] END .......................C=7, gamma=1, kernel=sigmoid; total time=   0.0s\n",
      "[CV] END ...........................C=7, gamma=1, kernel=rbf; total time=   0.0s\n",
      "[CV] END ...........................C=7, gamma=1, kernel=rbf; total time=   0.0s\n",
      "[CV] END ...........................C=7, gamma=1, kernel=rbf; total time=   0.0s\n",
      "[CV] END ...........................C=7, gamma=1, kernel=rbf; total time=   0.0s\n",
      "[CV] END ...........................C=7, gamma=1, kernel=rbf; total time=   0.0s\n",
      "[CV] END ......................C=7, gamma=0.1, kernel=linear; total time=   0.0s\n",
      "[CV] END ......................C=7, gamma=0.1, kernel=linear; total time=   0.0s\n",
      "[CV] END ......................C=7, gamma=0.1, kernel=linear; total time=   0.0s\n",
      "[CV] END ......................C=7, gamma=0.1, kernel=linear; total time=   0.0s\n",
      "[CV] END ......................C=7, gamma=0.1, kernel=linear; total time=   0.0s\n",
      "[CV] END ........................C=7, gamma=0.1, kernel=poly; total time=   0.0s\n",
      "[CV] END ........................C=7, gamma=0.1, kernel=poly; total time=   0.0s\n",
      "[CV] END ........................C=7, gamma=0.1, kernel=poly; total time=   0.0s\n",
      "[CV] END ........................C=7, gamma=0.1, kernel=poly; total time=   0.0s\n",
      "[CV] END ........................C=7, gamma=0.1, kernel=poly; total time=   0.0s\n",
      "[CV] END .....................C=7, gamma=0.1, kernel=sigmoid; total time=   0.0s\n",
      "[CV] END .....................C=7, gamma=0.1, kernel=sigmoid; total time=   0.0s\n",
      "[CV] END .....................C=7, gamma=0.1, kernel=sigmoid; total time=   0.0s\n",
      "[CV] END .....................C=7, gamma=0.1, kernel=sigmoid; total time=   0.0s\n",
      "[CV] END .....................C=7, gamma=0.1, kernel=sigmoid; total time=   0.0s\n",
      "[CV] END .........................C=7, gamma=0.1, kernel=rbf; total time=   0.0s\n",
      "[CV] END .........................C=7, gamma=0.1, kernel=rbf; total time=   0.0s\n",
      "[CV] END .........................C=7, gamma=0.1, kernel=rbf; total time=   0.0s\n",
      "[CV] END .........................C=7, gamma=0.1, kernel=rbf; total time=   0.0s\n",
      "[CV] END .........................C=7, gamma=0.1, kernel=rbf; total time=   0.0s\n",
      "[CV] END .....................C=7, gamma=0.01, kernel=linear; total time=   0.0s\n",
      "[CV] END .....................C=7, gamma=0.01, kernel=linear; total time=   0.0s\n"
     ]
    },
    {
     "name": "stdout",
     "output_type": "stream",
     "text": [
      "[CV] END .....................C=7, gamma=0.01, kernel=linear; total time=   0.0s\n",
      "[CV] END .....................C=7, gamma=0.01, kernel=linear; total time=   0.0s\n",
      "[CV] END .....................C=7, gamma=0.01, kernel=linear; total time=   0.0s\n",
      "[CV] END .......................C=7, gamma=0.01, kernel=poly; total time=   0.0s\n",
      "[CV] END .......................C=7, gamma=0.01, kernel=poly; total time=   0.0s\n",
      "[CV] END .......................C=7, gamma=0.01, kernel=poly; total time=   0.0s\n",
      "[CV] END .......................C=7, gamma=0.01, kernel=poly; total time=   0.0s\n",
      "[CV] END .......................C=7, gamma=0.01, kernel=poly; total time=   0.0s\n",
      "[CV] END ....................C=7, gamma=0.01, kernel=sigmoid; total time=   0.0s\n",
      "[CV] END ....................C=7, gamma=0.01, kernel=sigmoid; total time=   0.0s\n",
      "[CV] END ....................C=7, gamma=0.01, kernel=sigmoid; total time=   0.0s\n",
      "[CV] END ....................C=7, gamma=0.01, kernel=sigmoid; total time=   0.0s\n",
      "[CV] END ....................C=7, gamma=0.01, kernel=sigmoid; total time=   0.0s\n",
      "[CV] END ........................C=7, gamma=0.01, kernel=rbf; total time=   0.0s\n",
      "[CV] END ........................C=7, gamma=0.01, kernel=rbf; total time=   0.0s\n",
      "[CV] END ........................C=7, gamma=0.01, kernel=rbf; total time=   0.0s\n",
      "[CV] END ........................C=7, gamma=0.01, kernel=rbf; total time=   0.0s\n",
      "[CV] END ........................C=7, gamma=0.01, kernel=rbf; total time=   0.0s\n",
      "[CV] END ........................C=9, gamma=1, kernel=linear; total time=   0.0s\n",
      "[CV] END ........................C=9, gamma=1, kernel=linear; total time=   0.0s\n",
      "[CV] END ........................C=9, gamma=1, kernel=linear; total time=   0.0s\n",
      "[CV] END ........................C=9, gamma=1, kernel=linear; total time=   0.0s\n",
      "[CV] END ........................C=9, gamma=1, kernel=linear; total time=   0.0s\n",
      "[CV] END ..........................C=9, gamma=1, kernel=poly; total time=   0.0s\n",
      "[CV] END ..........................C=9, gamma=1, kernel=poly; total time=   0.0s\n",
      "[CV] END ..........................C=9, gamma=1, kernel=poly; total time=   0.0s\n",
      "[CV] END ..........................C=9, gamma=1, kernel=poly; total time=   0.0s\n",
      "[CV] END ..........................C=9, gamma=1, kernel=poly; total time=   0.0s\n",
      "[CV] END .......................C=9, gamma=1, kernel=sigmoid; total time=   0.0s\n",
      "[CV] END .......................C=9, gamma=1, kernel=sigmoid; total time=   0.0s\n",
      "[CV] END .......................C=9, gamma=1, kernel=sigmoid; total time=   0.0s\n",
      "[CV] END .......................C=9, gamma=1, kernel=sigmoid; total time=   0.0s\n",
      "[CV] END .......................C=9, gamma=1, kernel=sigmoid; total time=   0.0s\n",
      "[CV] END ...........................C=9, gamma=1, kernel=rbf; total time=   0.0s\n",
      "[CV] END ...........................C=9, gamma=1, kernel=rbf; total time=   0.0s\n",
      "[CV] END ...........................C=9, gamma=1, kernel=rbf; total time=   0.0s\n",
      "[CV] END ...........................C=9, gamma=1, kernel=rbf; total time=   0.0s\n",
      "[CV] END ...........................C=9, gamma=1, kernel=rbf; total time=   0.0s\n",
      "[CV] END ......................C=9, gamma=0.1, kernel=linear; total time=   0.0s\n",
      "[CV] END ......................C=9, gamma=0.1, kernel=linear; total time=   0.0s\n",
      "[CV] END ......................C=9, gamma=0.1, kernel=linear; total time=   0.0s\n",
      "[CV] END ......................C=9, gamma=0.1, kernel=linear; total time=   0.0s\n",
      "[CV] END ......................C=9, gamma=0.1, kernel=linear; total time=   0.0s\n",
      "[CV] END ........................C=9, gamma=0.1, kernel=poly; total time=   0.0s\n",
      "[CV] END ........................C=9, gamma=0.1, kernel=poly; total time=   0.0s\n",
      "[CV] END ........................C=9, gamma=0.1, kernel=poly; total time=   0.0s\n",
      "[CV] END ........................C=9, gamma=0.1, kernel=poly; total time=   0.0s\n",
      "[CV] END ........................C=9, gamma=0.1, kernel=poly; total time=   0.0s\n",
      "[CV] END .....................C=9, gamma=0.1, kernel=sigmoid; total time=   0.0s\n",
      "[CV] END .....................C=9, gamma=0.1, kernel=sigmoid; total time=   0.0s\n",
      "[CV] END .....................C=9, gamma=0.1, kernel=sigmoid; total time=   0.0s\n",
      "[CV] END .....................C=9, gamma=0.1, kernel=sigmoid; total time=   0.0s\n",
      "[CV] END .....................C=9, gamma=0.1, kernel=sigmoid; total time=   0.0s\n",
      "[CV] END .........................C=9, gamma=0.1, kernel=rbf; total time=   0.0s\n",
      "[CV] END .........................C=9, gamma=0.1, kernel=rbf; total time=   0.0s\n",
      "[CV] END .........................C=9, gamma=0.1, kernel=rbf; total time=   0.0s\n",
      "[CV] END .........................C=9, gamma=0.1, kernel=rbf; total time=   0.0s\n",
      "[CV] END .........................C=9, gamma=0.1, kernel=rbf; total time=   0.0s\n",
      "[CV] END .....................C=9, gamma=0.01, kernel=linear; total time=   0.0s\n",
      "[CV] END .....................C=9, gamma=0.01, kernel=linear; total time=   0.0s\n",
      "[CV] END .....................C=9, gamma=0.01, kernel=linear; total time=   0.0s\n",
      "[CV] END .....................C=9, gamma=0.01, kernel=linear; total time=   0.0s\n",
      "[CV] END .....................C=9, gamma=0.01, kernel=linear; total time=   0.0s\n",
      "[CV] END .......................C=9, gamma=0.01, kernel=poly; total time=   0.0s\n",
      "[CV] END .......................C=9, gamma=0.01, kernel=poly; total time=   0.0s\n",
      "[CV] END .......................C=9, gamma=0.01, kernel=poly; total time=   0.0s\n",
      "[CV] END .......................C=9, gamma=0.01, kernel=poly; total time=   0.0s\n",
      "[CV] END .......................C=9, gamma=0.01, kernel=poly; total time=   0.0s\n",
      "[CV] END ....................C=9, gamma=0.01, kernel=sigmoid; total time=   0.0s\n",
      "[CV] END ....................C=9, gamma=0.01, kernel=sigmoid; total time=   0.0s\n",
      "[CV] END ....................C=9, gamma=0.01, kernel=sigmoid; total time=   0.0s\n",
      "[CV] END ....................C=9, gamma=0.01, kernel=sigmoid; total time=   0.0s\n",
      "[CV] END ....................C=9, gamma=0.01, kernel=sigmoid; total time=   0.0s\n",
      "[CV] END ........................C=9, gamma=0.01, kernel=rbf; total time=   0.0s\n",
      "[CV] END ........................C=9, gamma=0.01, kernel=rbf; total time=   0.0s\n",
      "[CV] END ........................C=9, gamma=0.01, kernel=rbf; total time=   0.0s\n",
      "[CV] END ........................C=9, gamma=0.01, kernel=rbf; total time=   0.0s\n",
      "[CV] END ........................C=9, gamma=0.01, kernel=rbf; total time=   0.0s\n",
      "[CV] END .......................C=10, gamma=1, kernel=linear; total time=   0.0s\n",
      "[CV] END .......................C=10, gamma=1, kernel=linear; total time=   0.0s\n",
      "[CV] END .......................C=10, gamma=1, kernel=linear; total time=   0.0s\n",
      "[CV] END .......................C=10, gamma=1, kernel=linear; total time=   0.0s\n",
      "[CV] END .......................C=10, gamma=1, kernel=linear; total time=   0.0s\n",
      "[CV] END .........................C=10, gamma=1, kernel=poly; total time=   0.0s\n",
      "[CV] END .........................C=10, gamma=1, kernel=poly; total time=   0.0s\n",
      "[CV] END .........................C=10, gamma=1, kernel=poly; total time=   0.0s\n",
      "[CV] END .........................C=10, gamma=1, kernel=poly; total time=   0.0s\n",
      "[CV] END .........................C=10, gamma=1, kernel=poly; total time=   0.0s\n",
      "[CV] END ......................C=10, gamma=1, kernel=sigmoid; total time=   0.0s\n",
      "[CV] END ......................C=10, gamma=1, kernel=sigmoid; total time=   0.0s\n",
      "[CV] END ......................C=10, gamma=1, kernel=sigmoid; total time=   0.0s\n",
      "[CV] END ......................C=10, gamma=1, kernel=sigmoid; total time=   0.0s\n",
      "[CV] END ......................C=10, gamma=1, kernel=sigmoid; total time=   0.0s\n",
      "[CV] END ..........................C=10, gamma=1, kernel=rbf; total time=   0.0s\n",
      "[CV] END ..........................C=10, gamma=1, kernel=rbf; total time=   0.0s\n",
      "[CV] END ..........................C=10, gamma=1, kernel=rbf; total time=   0.0s\n",
      "[CV] END ..........................C=10, gamma=1, kernel=rbf; total time=   0.0s\n",
      "[CV] END ..........................C=10, gamma=1, kernel=rbf; total time=   0.0s\n",
      "[CV] END .....................C=10, gamma=0.1, kernel=linear; total time=   0.0s\n",
      "[CV] END .....................C=10, gamma=0.1, kernel=linear; total time=   0.0s\n",
      "[CV] END .....................C=10, gamma=0.1, kernel=linear; total time=   0.0s\n",
      "[CV] END .....................C=10, gamma=0.1, kernel=linear; total time=   0.0s\n",
      "[CV] END .....................C=10, gamma=0.1, kernel=linear; total time=   0.0s\n",
      "[CV] END .......................C=10, gamma=0.1, kernel=poly; total time=   0.0s\n",
      "[CV] END .......................C=10, gamma=0.1, kernel=poly; total time=   0.0s\n",
      "[CV] END .......................C=10, gamma=0.1, kernel=poly; total time=   0.0s\n",
      "[CV] END .......................C=10, gamma=0.1, kernel=poly; total time=   0.0s\n",
      "[CV] END .......................C=10, gamma=0.1, kernel=poly; total time=   0.0s\n",
      "[CV] END ....................C=10, gamma=0.1, kernel=sigmoid; total time=   0.0s\n",
      "[CV] END ....................C=10, gamma=0.1, kernel=sigmoid; total time=   0.0s\n",
      "[CV] END ....................C=10, gamma=0.1, kernel=sigmoid; total time=   0.0s\n"
     ]
    },
    {
     "name": "stdout",
     "output_type": "stream",
     "text": [
      "[CV] END ....................C=10, gamma=0.1, kernel=sigmoid; total time=   0.0s\n",
      "[CV] END ....................C=10, gamma=0.1, kernel=sigmoid; total time=   0.0s\n",
      "[CV] END ........................C=10, gamma=0.1, kernel=rbf; total time=   0.0s\n",
      "[CV] END ........................C=10, gamma=0.1, kernel=rbf; total time=   0.0s\n",
      "[CV] END ........................C=10, gamma=0.1, kernel=rbf; total time=   0.0s\n",
      "[CV] END ........................C=10, gamma=0.1, kernel=rbf; total time=   0.0s\n",
      "[CV] END ........................C=10, gamma=0.1, kernel=rbf; total time=   0.0s\n",
      "[CV] END ....................C=10, gamma=0.01, kernel=linear; total time=   0.0s\n",
      "[CV] END ....................C=10, gamma=0.01, kernel=linear; total time=   0.0s\n",
      "[CV] END ....................C=10, gamma=0.01, kernel=linear; total time=   0.0s\n",
      "[CV] END ....................C=10, gamma=0.01, kernel=linear; total time=   0.0s\n",
      "[CV] END ....................C=10, gamma=0.01, kernel=linear; total time=   0.0s\n",
      "[CV] END ......................C=10, gamma=0.01, kernel=poly; total time=   0.0s\n",
      "[CV] END ......................C=10, gamma=0.01, kernel=poly; total time=   0.0s\n",
      "[CV] END ......................C=10, gamma=0.01, kernel=poly; total time=   0.0s\n",
      "[CV] END ......................C=10, gamma=0.01, kernel=poly; total time=   0.0s\n",
      "[CV] END ......................C=10, gamma=0.01, kernel=poly; total time=   0.0s\n",
      "[CV] END ...................C=10, gamma=0.01, kernel=sigmoid; total time=   0.0s\n",
      "[CV] END ...................C=10, gamma=0.01, kernel=sigmoid; total time=   0.0s\n",
      "[CV] END ...................C=10, gamma=0.01, kernel=sigmoid; total time=   0.0s\n",
      "[CV] END ...................C=10, gamma=0.01, kernel=sigmoid; total time=   0.0s\n",
      "[CV] END ...................C=10, gamma=0.01, kernel=sigmoid; total time=   0.0s\n",
      "[CV] END .......................C=10, gamma=0.01, kernel=rbf; total time=   0.0s\n",
      "[CV] END .......................C=10, gamma=0.01, kernel=rbf; total time=   0.0s\n",
      "[CV] END .......................C=10, gamma=0.01, kernel=rbf; total time=   0.0s\n",
      "[CV] END .......................C=10, gamma=0.01, kernel=rbf; total time=   0.0s\n",
      "[CV] END .......................C=10, gamma=0.01, kernel=rbf; total time=   0.0s\n"
     ]
    },
    {
     "data": {
      "text/plain": [
       "GridSearchCV(estimator=SVC(),\n",
       "             param_grid={'C': [0.1, 1, 5, 7, 9, 10], 'gamma': [1, 0.1, 0.01],\n",
       "                         'kernel': ['linear', 'poly', 'sigmoid', 'rbf']},\n",
       "             verbose=2)"
      ]
     },
     "execution_count": 22,
     "metadata": {},
     "output_type": "execute_result"
    }
   ],
   "source": [
    "model.fit(X_train, y_train)"
   ]
  },
  {
   "cell_type": "code",
   "execution_count": 23,
   "id": "1863387e",
   "metadata": {},
   "outputs": [
    {
     "data": {
      "text/plain": [
       "SVC(C=5, gamma=1)"
      ]
     },
     "execution_count": 23,
     "metadata": {},
     "output_type": "execute_result"
    }
   ],
   "source": [
    "model.best_estimator_"
   ]
  },
  {
   "cell_type": "code",
   "execution_count": 26,
   "id": "d7b68469",
   "metadata": {},
   "outputs": [],
   "source": [
    "y_test_pred = model.best_estimator_.predict(X_test)"
   ]
  },
  {
   "cell_type": "code",
   "execution_count": 27,
   "id": "2c0d1972",
   "metadata": {},
   "outputs": [],
   "source": [
    "cm_train = confusion_matrix(y_train, y_train_pred)"
   ]
  },
  {
   "cell_type": "code",
   "execution_count": 48,
   "id": "f096d5e9",
   "metadata": {},
   "outputs": [
    {
     "data": {
      "image/png": "[encoded data removed]",
      "text/plain": [
       "<Figure size 640x480 with 2 Axes>"
      ]
     },
     "metadata": {},
     "output_type": "display_data"
    }
   ],
   "source": [
    "sns.heatmap(cm_train, annot=True, cmap='Greens')\n",
    "plt.xlabel('Predicted labels')\n",
    "plt.ylabel('True labels')\n",
    "plt.show()"
   ]
  },
  {
   "cell_type": "code",
   "execution_count": 29,
   "id": "ce647d18",
   "metadata": {},
   "outputs": [
    {
     "data": {
      "image/png": "[encoded data removed]",
      "text/plain": [
       "<Figure size 640x480 with 1 Axes>"
      ]
     },
     "metadata": {},
     "output_type": "display_data"
    }
   ],
   "source": [
    "fpr, tpr, thresholds = roc_curve(y_train, y_train_pred)\n",
    "auc = roc_auc_score(y_train, y_train_pred)\n",
    "\n",
    "plt.plot(fpr, tpr, label='ROC curve (area = %0.2f)' % auc)\n",
    "plt.plot([0, 1], [0, 1], 'k--')\n",
    "plt.xlim([0.0, 1.0])\n",
    "plt.ylim([0.0, 1.0])\n",
    "plt.xlabel('False Positive Rate')\n",
    "plt.ylabel('True Positive Rate')\n",
    "plt.title('Receiver operating characteristic')\n",
    "plt.legend(loc=\"lower right\")\n",
    "plt.show()"
   ]
  },
  {
   "cell_type": "code",
   "execution_count": 30,
   "id": "244f3cd9",
   "metadata": {},
   "outputs": [],
   "source": [
    "cm_test = confusion_matrix(y_test, y_test_pred)"
   ]
  },
  {
   "cell_type": "code",
   "execution_count": 49,
   "id": "22305d63",
   "metadata": {},
   "outputs": [
    {
     "data": {
      "image/png": "[encoded data removed]",
      "text/plain": [
       "<Figure size 640x480 with 2 Axes>"
      ]
     },
     "metadata": {},
     "output_type": "display_data"
    }
   ],
   "source": [
    "sns.heatmap(cm_test, annot=True, cmap='Greens')\n",
    "plt.xlabel('Predicted labels')\n",
    "plt.ylabel('True labels')\n",
    "plt.show()"
   ]
  },
  {
   "cell_type": "code",
   "execution_count": 54,
   "id": "4128c0c6",
   "metadata": {},
   "outputs": [
    {
     "data": {
      "image/png": "[encoded data removed]",
      "text/plain": [
       "<Figure size 640x480 with 1 Axes>"
      ]
     },
     "metadata": {},
     "output_type": "display_data"
    }
   ],
   "source": [
    "fpr, tpr, thresholds = roc_curve(y_test, y_test_pred)\n",
    "auc = roc_auc_score(y_test, y_test_pred)\n",
    "\n",
    "plt.plot(fpr, tpr, label='ROC curve (area = %0.2f)' % auc)\n",
    "plt.plot([0, 1], [0, 1], linestyle='--', label='Random')\n",
    "plt.xlim([0.0, 1.0])\n",
    "plt.ylim([0.0, 1.0])\n",
    "plt.xlabel('False Positive Rate')\n",
    "plt.ylabel('True Positive Rate')\n",
    "plt.title('Receiver operating characteristic')\n",
    "plt.legend(loc=\"lower right\")\n",
    "plt.show()"
   ]
  }
 ],
 "metadata": {
  "kernelspec": {
   "display_name": "Python 3 (ipykernel)",
   "language": "python",
   "name": "python3"
  },
  "language_info": {
   "codemirror_mode": {
    "name": "ipython",
    "version": 3
   },
   "file_extension": ".py",
   "mimetype": "text/x-python",
   "name": "python",
   "nbconvert_exporter": "python",
   "pygments_lexer": "ipython3",
   "version": "3.9.13"
  }
 },
 "nbformat": 4,
 "nbformat_minor": 5
}
